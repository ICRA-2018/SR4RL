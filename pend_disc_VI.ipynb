{
 "cells": [
  {
   "cell_type": "markdown",
   "metadata": {},
   "source": [
    "Pendulum with dicrete action and continuous space\n",
    "\n",
    "Uses V-iteration"
   ]
  },
  {
   "cell_type": "code",
   "execution_count": 1,
   "metadata": {},
   "outputs": [],
   "source": [
    "clear all\n",
    "addpath('SR_Process_Models/Pendulum swingup/Matlab/')\n",
    "% use globals to keep the notation as close as possible to the paper\n",
    "global MFcores rho_option xr Ts ur wrapflag Qdiag Pdiag rho_offset theta p BFtypeV BFtypeP gamma coordflag eomflag Vfilename"
   ]
  },
  {
   "cell_type": "code",
   "execution_count": 2,
   "metadata": {},
   "outputs": [],
   "source": [
    "Vfilename = '';"
   ]
  },
  {
   "cell_type": "code",
   "execution_count": 3,
   "metadata": {},
   "outputs": [],
   "source": [
    "eomflag = 1;            % set to 0 to use the physical model and to 1 to use a model obtained by SR (to be manually inserted in f.m)\n",
    "coordflag = 0;          % set to 0 to have alpha = 0 down and to 1 to have it up\n",
    "extflag = 0;            % set to 0 to use data in X, set to 1 to use extended data [X; Xnextopt]\n",
    "plotflag = 0;           % plotting during value-iteration\n",
    "xnextflag = 0;          % set to 0 to use r(x,u) and to 1 to use r(xnext,u)\n",
    "wrapflag = 1;           % set to 1 to wrap alpha\n",
    "xr = [abs(coordflag-1)*pi; 0]; % desired state\n",
    "Umax = 2;               % maximum control action\n",
    "BFtypeV = 2;            % V-function approximation type (1 - triangular, 2 - exponential, 3 - parabolic, 4 - polynomial, 5 - scattered, 6 - spline,7 - symbolic)\n",
    "BFtypeP = 1;            % policy approximation type (1 - triangular, 2 - exponential, 3 - parabolic, 4 - polynomial)\n",
    "rho_option = 2;         % switch different reward functions(1 - quadratic, 2 - abs, 3 - sqrt)\n",
    "gamma = 0.95;           % discount factor\n",
    "Qdiag = [0.5 0.01];     % diagonal of the reward Q matrix\n",
    "Pdiag = 0.05;           % diagonal of the reward P matrix\n",
    "Ts = 0.05;              % sampling period\n",
    "% xdom = [-1*pi 1*pi;     % state-space domain limits - angle\n",
    "%         -30 30];        % state-space domain limits - angular velocity\n",
    "xdom = [0 2*pi;         % state-space domain limits - angle\n",
    "        -30 30];        % state-space domain limits - angular velocity\n",
    "nX = 1000;              % number of points for scattered interpolation\n",
    "rho_offset = 0;         % offset of the reward function value\n",
    "PIflag = 0;             % set to 1 for policy iteration, to 0 for value iteration"
   ]
  },
  {
   "cell_type": "code",
   "execution_count": 4,
   "metadata": {},
   "outputs": [],
   "source": [
    "n1 = 7;                % number of BF for x(1)\n",
    "n2 = 7;                % number of BF for x(2)\n",
    "nr = 1;                 % refine data nr times for plotting\n",
    "maxiter = 1000;         % number of VI (PI) iterations\n",
    "epstheta = 1e-4;        % stopping criterion threshold\n",
    "su = 0.01;              % fine step for u around ur"
   ]
  },
  {
   "cell_type": "code",
   "execution_count": 5,
   "metadata": {},
   "outputs": [],
   "source": [
    "if(eomflag == 0)\n",
    "    ur = fminbnd(@(u) sum((xr-f(xr',u)').^2), -10, 10); \t% control action corresponding to desired state\n",
    "elseif(eomflag == 1)\n",
    "    ur = fminbnd(@(u) sum((xr-fsm(xr',u)').^2), -10, 10); \t% control action corresponding to desired state\n",
    "end\n",
    "if ur < su/100, ur = 0; end;\n",
    "U = [-Umax:1:Umax fliplr(ur-su:-su:ur-.5) ur:su:ur+.5]';\n",
    "U = sort(unique(U));    % keep unique values of control actions and sort them\n",
    "U = [-Umax:0.1:Umax]';\n",
    "nU = size(U,1);         % number of action samples"
   ]
  },
  {
   "cell_type": "code",
   "execution_count": 6,
   "metadata": {},
   "outputs": [],
   "source": [
    "s1 = diff(xdom(1,:))/(n1-1);    % step for basis function cores in x(1)\n",
    "s2 = diff(xdom(2,:))/(n2-1);    % step for basis function cores in x(2)\n",
    "MFcores = {[fliplr(xr(1)-s1:-s1:xdom(1,1)) xr(1):s1:xdom(1,2)]; ...\n",
    "    [fliplr(xr(2)-s2:-s2:xdom(2,1)) xr(2):s2:xdom(2,2)]};   % basis function cores\n",
    "% K = length(MFcores{1})*length(MFcores{2});                  % total number of basis functions"
   ]
  },
  {
   "cell_type": "code",
   "execution_count": 7,
   "metadata": {},
   "outputs": [],
   "source": [
    "[x1,x2] = ndgrid(MFcores{1},MFcores{2});\n",
    "X = [x1(:) x2(:)];      % data set to optimize on"
   ]
  },
  {
   "cell_type": "code",
   "execution_count": 8,
   "metadata": {},
   "outputs": [],
   "source": [
    "load Xnextopt\n",
    "Xe = [X; Xnextopt];\n",
    "nXe = size(Xe,1);         % number of state samples"
   ]
  },
  {
   "cell_type": "code",
   "execution_count": 9,
   "metadata": {},
   "outputs": [],
   "source": [
    "if BFtypeV == 5,\n",
    "    X = 2*(0.5-rand(nX,2)).*(ones(nX,1)*[pi 30]);           % generate random points\n",
    "end;\n",
    "nX = size(X,1);         % number of state samples"
   ]
  },
  {
   "cell_type": "code",
   "execution_count": 10,
   "metadata": {},
   "outputs": [],
   "source": [
    "% fine grid for plotting\n",
    "[xx1,xx2] = ndgrid([fliplr(xr(1)-s1/nr:-s1/nr:min(MFcores{1})) xr(1):s1/nr:max(MFcores{1})], ...\n",
    "                    [fliplr(xr(2)-s2/nr:-s2/nr:min(MFcores{2})) xr(2):s2/nr:max(MFcores{2})]);\n",
    "XX = [xx1(:) xx2(:)];   % data set to generate plots"
   ]
  },
  {
   "cell_type": "code",
   "execution_count": 11,
   "metadata": {},
   "outputs": [
    {
     "name": "stdout",
     "output_type": "stream",
     "text": [
      "Precomputing state transitions ...\n"
     ]
    }
   ],
   "source": [
    "fprintf('Precomputing state transitions ...\\n');\n",
    "if eomflag == 0\n",
    "    [Xnext,Urep] = f(X,U);                          % compute next state for all actions (stacked in Xnext) using eom\n",
    "else\n",
    "    [Xnext,Urep] = fsm(X,U);                        % compute next state for all actions (stacked in Xnext) using symbolic model\n",
    "end"
   ]
  },
  {
   "cell_type": "code",
   "execution_count": 12,
   "metadata": {},
   "outputs": [],
   "source": [
    "indX = any(Xnext > repmat(max(X),size(Xnext,1),1) | Xnext < repmat(min(X),size(Xnext,1),1),2);      % indices of next states that fall outside the domain"
   ]
  },
  {
   "cell_type": "code",
   "execution_count": 13,
   "metadata": {},
   "outputs": [],
   "source": [
    "if xnextflag == 1\n",
    "    r = rho(Xnext,Urep);                            % pre-compute rho over all actions using next state\n",
    "else    \n",
    "    r = rho(repmat(X,length(U),1),Urep);            % pre-compute rho over all actions using current state\n",
    "end;    \n",
    "% r(indX,:) = -1e10;\n",
    "if BFtypeV ~= 5,\n",
    "    PhiV = tmprodvect(X,MFcores,BFtypeV);           % basis function values for all current states\n",
    "    PhinextV = tmprodvect(Xnext,MFcores,BFtypeV);   % basis function values for future states\n",
    "    PhixxV = tmprodvect(XX,MFcores,BFtypeV);        % evaluate BF for visualization data\n",
    "    PhiP = tmprodvect(X,MFcores,BFtypeP);           % basis function values for current states\n",
    "    PhixxP = tmprodvect(XX,MFcores,BFtypeP);        % evaluate BF for visualization data\n",
    "    % Phi = sparse(Phi);\n",
    "    KV = size(PhiV,2);                              % total number of basis functions\n",
    "    KP = size(PhiP,2);                              % total number of basis functions\n",
    "else\n",
    "    DT = delaunayTriangulation(X);\n",
    "    [ti,bc] = pointLocation(DT,Xnext);\n",
    "    ind = ~isnan(ti);\n",
    "    DTind = DT(ti(ind),:);\n",
    "    KV = size(X,1);                         % total number of basis functions\n",
    "    KP = KV;                                % total number of basis functions    \n",
    "end;"
   ]
  },
  {
   "cell_type": "code",
   "execution_count": 14,
   "metadata": {},
   "outputs": [],
   "source": [
    "theta = 0*randn(KV,maxiter);                % initial value function parameters\n",
    "p = zeros(KP,maxiter);                      % policy parameters\n",
    "V = xx1;\n",
    "P = V;"
   ]
  },
  {
   "cell_type": "code",
   "execution_count": 15,
   "metadata": {},
   "outputs": [],
   "source": [
    "theta(:,1) = max(reshape(r,nX,nU),[],2);    % use reward to initialize V function parameters\n",
    "%theta(:,1) = [-117748.27529638; -0.009436; 10.52001016; -14.42369145; 235.19477339; 1.90537646; 0.06125907; 0.75812601; 3.539E-5; 3.51E-6; -0.1119752];\n",
    "% theta(:,1) = [-7.21773756 / (1.0 - 0.95); 13.79972273; 0.89680721; -5.24539182; 1.74426011; 1.53286872; -8.00413901; -3.45302201; -3.14E-6; 6.812E-5; 0.81078732];\n",
    "%theta(:,1) = [-209.20822470129664; 0.19566459; 1.52888192; 74.99785322; -0.03714352; -0.20372314; 0.02157719; 0.04181519; -1.13392594; 0.03255163; 1.4E-7];\n",
    "% theta(:,1) = [-0.6777083413036449 / (1.0 - 0.95); -288.89041375; 0.00130654; 0.52547764; 3.12008377; -0.8078517; 1.42518149; -17.8175546; 1.48205744; -0.00162679; 2.15520596; 0.01582812; -1.76479988];\n",
    "% theta(:,1) = feval(Vfilename);\n",
    "th = x1;"
   ]
  },
  {
   "cell_type": "code",
   "execution_count": 16,
   "metadata": {},
   "outputs": [
    {
     "name": "stdout",
     "output_type": "stream",
     "text": [
      "iteration: 01,02,03,04,05,06,07,08,09,10,11,12,13,14,15,16,17,18,19,20,21,22,23,24,25,26,27,28,29,30,\n",
      "iteration: 31,32,33,34,35,36,37,38,39,40,41,42,43,44,45,46,47,48,49,50,51,52,53,54,55,56,57,58,59,60,\n",
      "iteration: 61,62,63,64,65,66,67,68,69,70,71,72,73,74,75,76,77,78,79,80,81,82,83,84,85,86,87,88,89,90,\n",
      "iteration: 91,92,93,94,95,96,97,98,99,100,101,102,103,104,105,106,107,108,109,110,\n"
     ]
    }
   ],
   "source": [
    "fprintf('iteration: '); \n",
    "for j = 2 : maxiter                         % VI / PI iterations\n",
    "    fprintf('%02d,', j-1)\n",
    "    if rem(j-1,30) == 0, fprintf('\\niteration: '); end;\n",
    "    if BFtypeV == 1 || BFtypeV == 3         % normalized basis functions, assign direct, no LS estimation needed\n",
    "        if PIflag == 0\n",
    "            if extflag == 0\n",
    "                [theta(:,j),maxUind] = max(reshape(r + gamma*PhinextV*theta(:,j-1),nX,nU),[],2);    % Bellman equation RHS\n",
    "                p(:,j) = U(maxUind);            % optimal action\n",
    "                if eomflag == 0\n",
    "                    Xnextopt = f(X,U(maxUind),1);       % next state based on current policy using eom\n",
    "                else\n",
    "                    Xnextopt = fsm(X,U(maxUind),1);     % next state based on current policy using symbolic model\n",
    "                end;\n",
    "            else\n",
    "                [theta_target,maxUind] = max(min(inf,reshape(re + gamma*PhinextVe*theta(:,j-1),nXe,nU)),[],2);  % Bellman equation RHS\n",
    "                theta(:,j) = min(0,PhiVe\\theta_target);      % LS estimate of V-function parameters\n",
    "                p_target = U(maxUind);                      % target for the LS estimate of optimal action\n",
    "                p(:,j) = PhiPe \\ p_target;                   % LS estimate of policy parameters\n",
    "            end;\n",
    "        else\n",
    "            u = tmprodvect(X,MFcores,BFtypeP)*p(:,j-1); % current policy\n",
    "            if eomflag == 0\n",
    "                Xnxt = f(X,u,1);                        % next state based on current policy using eom\n",
    "            else\n",
    "                Xnxt = fsm(X,u,1);                      % next state based on current policy using symbolic model\n",
    "            end;\n",
    "            theta(:,j) = (tmprodvect(X,MFcores,BFtypeV)-gamma*tmprodvect(Xnxt,MFcores,BFtypeV)) \\ rho(Xnxt,u);  % estimate value function for current policy\n",
    "            [~,maxUind] = max(reshape(r + gamma*PhinextV*theta(:,j),nX,nU),[],2);    % improve policy\n",
    "            p(:,j) = U(maxUind);                % improved policy parameters\n",
    "        end;\n",
    "    elseif BFtypeV == 6                     % cubic spline\n",
    "        th(:) = theta(:,j-1);               % reshape theta for interp2\n",
    "        [theta(:,j),maxUind] = max(min(0,reshape(r + gamma*interp2(x1',x2',th',Xnext(:,1),Xnext(:,2),'cubic'),nX,nU)),[],2);    % Bellman equation RHS\n",
    "        p(:,j) = U(maxUind);                % optimal action\n",
    "    elseif BFtypeV == 2 || BFtypeV == 4 || BFtypeV == 7 % prepare for least-squares estimate\n",
    "        if PIflag == 0\n",
    "            [theta_target,maxUind] = max(min(inf,reshape(r + gamma*PhinextV*theta(:,j-1),nX,nU)),[],2);  % Bellman equation RHS\n",
    "%             theta_target = theta_target - max(theta_target);\n",
    "            theta(:,j) = PhiV\\theta_target;             % LS estimate of V-function parameters\n",
    "            p_target = U(maxUind);                      % target for the LS estimate of optimal action\n",
    "            p(:,j) = PhiP \\ p_target;                   % LS estimate of policy parameters\n",
    "        else\n",
    "            u = tmprodvect(X,MFcores,BFtypeP)*p(:,j-1); % current policy\n",
    "            if eomflag == 0\n",
    "                Xnxt = f(X,u,1);                        % next state based on current policy using eom\n",
    "            else\n",
    "                Xnxt = fsm(X,u,1);                      % next state based on current policy using symbolic model\n",
    "            end;\n",
    "            theta(:,j) = (tmprodvect(X,MFcores,BFtypeV)-gamma*tmprodvect(Xnxt,MFcores,BFtypeV)) \\ rho(Xnxt,u);  % estimate value function for current policy\n",
    "            [~,maxUind] = max(reshape(r + gamma*PhinextV*theta(:,j),nX,nU),[],2);    % improve policy\n",
    "            p(:,j) = U(maxUind);                % improved policy parameters\n",
    "        end;\n",
    "    elseif BFtypeV == 5\n",
    "%         F = scatteredInterpolant(X(:,1),X(:,2),theta(:,j-1));\n",
    "%         [theta(:,j),maxUind] = max(reshape(r + gamma*F(Xnext(:,1),Xnext(:,2)),nX,nU),[],2); % Bellman equation RHS\n",
    "        tt = theta(:,j-1);\n",
    "        tt(ind) = sum(bc(ind,:).*tt(DTind),2);\n",
    "        [theta(:,j),maxUind] = max(reshape(r + gamma*tt,nX,nU),[],2); % Bellman equation RHS\n",
    "        p(:,j) = U(maxUind);                % optimal action\n",
    "    else\n",
    "        disp('Invalid type of basis functions.')\n",
    "    end;\n",
    "    if max(abs(theta(:,j) - theta(:,j-1))) < epstheta, break; end;   % convergence check\n",
    "end;\n",
    "fprintf('\\n'); \n",
    "theta = theta(:,1:j);                   % cut off unused parameter storage\n",
    "p = p(:,1:j);                           % cut off unused parameter storage"
   ]
  },
  {
   "cell_type": "code",
   "execution_count": 17,
   "metadata": {},
   "outputs": [],
   "source": [
    "if BFtypeV ~= 5,\n",
    "    V(:) = PhixxV*theta(:,end);             % calculate final V function\n",
    "    P(:) = PhixxP*p(:,end);                 % calculate final policy\n",
    "else\n",
    "    F = scatteredInterpolant(X(:,1),X(:,2),theta(:,end));\n",
    "    V(:) = F(XX(:,1),XX(:,2));\n",
    "    F = scatteredInterpolant(X(:,1),X(:,2),p(:,end));\n",
    "    P(:) = F(XX(:,1),XX(:,2));              % calculate final policy\n",
    "end;"
   ]
  },
  {
   "cell_type": "code",
   "execution_count": 18,
   "metadata": {},
   "outputs": [
    {
     "data": {
      "image/png": "[encoded data removed]",
      "text/plain": [
       "<IPython.core.display.Image object>"
      ]
     },
     "metadata": {},
     "output_type": "display_data"
    }
   ],
   "source": [
    "figure(1); clf; plot(theta');           % plot value function parameter convergence"
   ]
  },
  {
   "cell_type": "code",
   "execution_count": 19,
   "metadata": {},
   "outputs": [],
   "source": [
    "% save data\n",
    "filename = ['Ref=' num2str(round(180*xr(1)/pi)) '_Umax=' num2str(Umax) '_Qvel=' num2str(Qdiag(2)) '_Grid=' num2str(n1) '_gamma=' num2str(gamma)];\n",
    "filename = strrep(filename, '.', ',');  % replace dots by commas\n",
    "switch rho_option\n",
    "    case 1, filename = [filename '_quad'];\n",
    "    case 2, filename = [filename '_abs'];\n",
    "    case 3, filename = [filename '_sqrt'];\n",
    "end;\n",
    "switch BFtypeV\n",
    "    case 1, filename = [filename '_lin'];\n",
    "    case 2, filename = [filename '_exp'];\n",
    "    case 3, filename = [filename '_par'];\n",
    "end;\n",
    "%save(filename);\n",
    "\n",
    "% plotV_movie;"
   ]
  },
  {
   "cell_type": "code",
   "execution_count": 20,
   "metadata": {},
   "outputs": [],
   "source": [
    "%% generate data for SNGP \n",
    "XnextShaped = reshape(Xnext, length(X), nU, length(xr));\n",
    "r = rho(Xnext,Urep);\n",
    "rShaped = reshape(r, length(X), nU);\n",
    "summary = zeros(length(X), length(xr)+length(xr)*3);\n",
    "counter = length(xr)+1;\n",
    "summary(:,1:length(xr)) = X;\n",
    "for i=1:nU\n",
    "    summary(:, counter:counter+2) = [reshape(XnextShaped(:,i,:), nX, length(xr)) rShaped(:,i)];\n",
    "    counter = counter+length(xr)+1;\n",
    "end"
   ]
  },
  {
   "cell_type": "code",
   "execution_count": null,
   "metadata": {},
   "outputs": [],
   "source": []
  }
 ],
 "metadata": {
  "kernelspec": {
   "display_name": "Matlab",
   "language": "matlab",
   "name": "matlab"
  },
  "language_info": {
   "codemirror_mode": "octave",
   "file_extension": ".m",
   "help_links": [
    {
     "text": "MetaKernel Magics",
     "url": "https://github.com/calysto/metakernel/blob/master/metakernel/magics/README.md"
    }
   ],
   "mimetype": "text/x-octave",
   "name": "matlab",
   "version": "0.16.1"
  }
 },
 "nbformat": 4,
 "nbformat_minor": 2
}
